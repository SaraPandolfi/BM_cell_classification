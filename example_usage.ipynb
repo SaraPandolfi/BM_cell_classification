{
 "cells": [
  {
   "attachments": {},
   "cell_type": "markdown",
   "metadata": {},
   "source": [
    "Build the Dataset from the prepared images folders"
   ]
  },
  {
   "cell_type": "code",
   "execution_count": 1,
   "metadata": {},
   "outputs": [
    {
     "name": "stderr",
     "output_type": "stream",
     "text": [
      "2023-06-28 13:10:08.383863: W tensorflow/stream_executor/platform/default/dso_loader.cc:64] Could not load dynamic library 'libcudart.so.11.0'; dlerror: libcudart.so.11.0: cannot open shared object file: No such file or directory\n",
      "2023-06-28 13:10:08.383938: I tensorflow/stream_executor/cuda/cudart_stub.cc:29] Ignore above cudart dlerror if you do not have a GPU set up on your machine.\n"
     ]
    },
    {
     "name": "stdout",
     "output_type": "stream",
     "text": [
      "Found 1000 files belonging to 4 classes.\n",
      "Using 900 files for training.\n"
     ]
    },
    {
     "name": "stderr",
     "output_type": "stream",
     "text": [
      "2023-06-28 13:10:12.915671: W tensorflow/stream_executor/platform/default/dso_loader.cc:64] Could not load dynamic library 'libcuda.so.1'; dlerror: libcuda.so.1: cannot open shared object file: No such file or directory\n",
      "2023-06-28 13:10:12.915728: W tensorflow/stream_executor/cuda/cuda_driver.cc:269] failed call to cuInit: UNKNOWN ERROR (303)\n",
      "2023-06-28 13:10:12.915752: I tensorflow/stream_executor/cuda/cuda_diagnostics.cc:156] kernel driver does not appear to be running on this host (DESKTOP-EDANTKA): /proc/driver/nvidia/version does not exist\n",
      "2023-06-28 13:10:12.916088: I tensorflow/core/platform/cpu_feature_guard.cc:193] This TensorFlow binary is optimized with oneAPI Deep Neural Network Library (oneDNN) to use the following CPU instructions in performance-critical operations:  AVX2 FMA\n",
      "To enable them in other operations, rebuild TensorFlow with the appropriate compiler flags.\n"
     ]
    },
    {
     "name": "stdout",
     "output_type": "stream",
     "text": [
      "Found 1000 files belonging to 4 classes.\n",
      "Using 100 files for validation.\n",
      "Found 100 files belonging to 4 classes.\n"
     ]
    }
   ],
   "source": [
    "from classificationmodel.dataset import dataset_generator\n",
    "from classificationmodel.parameters import img_path, test_img_path, train_params\n",
    "\n",
    "train_set, val_set, test_set = dataset_generator(img_path,\n",
    "                                                 test_img_path,\n",
    "                                                 train_params)"
   ]
  },
  {
   "attachments": {},
   "cell_type": "markdown",
   "metadata": {},
   "source": [
    "Initialize the EfficientNet model"
   ]
  },
  {
   "cell_type": "code",
   "execution_count": 2,
   "metadata": {},
   "outputs": [
    {
     "name": "stdout",
     "output_type": "stream",
     "text": [
      "Loading pre-trained model from file...\n",
      "Epoch 1/10\n",
      "113/113 [==============================] - ETA: 0s - loss: 0.0461 - accuracy: 0.9822 \n",
      "Epoch 1: val_accuracy improved from -inf to 0.84000, saving model to best_efficientnet.h5\n",
      "113/113 [==============================] - 1211s 10s/step - loss: 0.0461 - accuracy: 0.9822 - val_loss: 0.7765 - val_accuracy: 0.8400 - lr: 0.0010\n",
      "Epoch 2/10\n",
      "113/113 [==============================] - ETA: 0s - loss: 0.0617 - accuracy: 0.9811\n",
      "Epoch 2: val_accuracy improved from 0.84000 to 0.86000, saving model to best_efficientnet.h5\n",
      "113/113 [==============================] - 817s 7s/step - loss: 0.0617 - accuracy: 0.9811 - val_loss: 0.5505 - val_accuracy: 0.8600 - lr: 0.0010\n",
      "Epoch 3/10\n",
      "113/113 [==============================] - ETA: 0s - loss: 0.1192 - accuracy: 0.9722\n",
      "Epoch 3: val_accuracy did not improve from 0.86000\n",
      "113/113 [==============================] - 811s 7s/step - loss: 0.1192 - accuracy: 0.9722 - val_loss: 0.9311 - val_accuracy: 0.8400 - lr: 0.0010\n",
      "Epoch 4/10\n",
      "113/113 [==============================] - ETA: 0s - loss: 0.1312 - accuracy: 0.9689\n",
      "Epoch 4: val_accuracy did not improve from 0.86000\n",
      "\n",
      "Epoch 4: ReduceLROnPlateau reducing learning rate to 0.00020000000949949026.\n",
      "113/113 [==============================] - 830s 7s/step - loss: 0.1312 - accuracy: 0.9689 - val_loss: 1.1676 - val_accuracy: 0.7800 - lr: 0.0010\n",
      "Epoch 5/10\n",
      "113/113 [==============================] - ETA: 0s - loss: 0.0544 - accuracy: 0.9822\n",
      "Epoch 5: val_accuracy did not improve from 0.86000\n",
      "113/113 [==============================] - 802s 7s/step - loss: 0.0544 - accuracy: 0.9822 - val_loss: 0.5108 - val_accuracy: 0.8500 - lr: 2.0000e-04\n",
      "Epoch 6/10\n",
      "113/113 [==============================] - ETA: 0s - loss: 0.0386 - accuracy: 0.9900\n",
      "Epoch 6: val_accuracy improved from 0.86000 to 0.90000, saving model to best_efficientnet.h5\n",
      "113/113 [==============================] - 776s 7s/step - loss: 0.0386 - accuracy: 0.9900 - val_loss: 0.5248 - val_accuracy: 0.9000 - lr: 2.0000e-04\n",
      "Epoch 7/10\n",
      "113/113 [==============================] - ETA: 0s - loss: 0.0199 - accuracy: 0.9933\n",
      "Epoch 7: val_accuracy improved from 0.90000 to 0.91000, saving model to best_efficientnet.h5\n",
      "\n",
      "Epoch 7: ReduceLROnPlateau reducing learning rate to 4.0000001899898055e-05.\n",
      "113/113 [==============================] - 770s 7s/step - loss: 0.0199 - accuracy: 0.9933 - val_loss: 0.5466 - val_accuracy: 0.9100 - lr: 2.0000e-04\n",
      "Epoch 8/10\n",
      "113/113 [==============================] - ETA: 0s - loss: 0.0117 - accuracy: 0.9967\n",
      "Epoch 8: val_accuracy did not improve from 0.91000\n",
      "113/113 [==============================] - 766s 7s/step - loss: 0.0117 - accuracy: 0.9967 - val_loss: 0.5266 - val_accuracy: 0.9100 - lr: 4.0000e-05\n",
      "Epoch 9/10\n",
      "113/113 [==============================] - ETA: 0s - loss: 0.0117 - accuracy: 0.9978\n",
      "Epoch 9: val_accuracy did not improve from 0.91000\n",
      "\n",
      "Epoch 9: ReduceLROnPlateau reducing learning rate to 8.000000525498762e-06.\n",
      "113/113 [==============================] - 764s 7s/step - loss: 0.0117 - accuracy: 0.9978 - val_loss: 0.5217 - val_accuracy: 0.9000 - lr: 4.0000e-05\n",
      "Epoch 10/10\n",
      "113/113 [==============================] - ETA: 0s - loss: 0.0069 - accuracy: 0.9989\n",
      "Epoch 10: val_accuracy did not improve from 0.91000\n",
      "113/113 [==============================] - 761s 7s/step - loss: 0.0069 - accuracy: 0.9989 - val_loss: 0.5263 - val_accuracy: 0.9000 - lr: 8.0000e-06\n"
     ]
    },
    {
     "name": "stderr",
     "output_type": "stream",
     "text": [
      "WARNING:absl:Found untraced functions such as _jit_compiled_convolution_op, _jit_compiled_convolution_op, _jit_compiled_convolution_op, _jit_compiled_convolution_op, _jit_compiled_convolution_op while saving (showing 5 of 130). These functions will not be directly callable after loading.\n"
     ]
    },
    {
     "name": "stdout",
     "output_type": "stream",
     "text": [
      "INFO:tensorflow:Assets written to: ram://219b202d-b30a-492f-b591-7944f2c4fabf/assets\n"
     ]
    },
    {
     "name": "stderr",
     "output_type": "stream",
     "text": [
      "INFO:tensorflow:Assets written to: ram://219b202d-b30a-492f-b591-7944f2c4fabf/assets\n"
     ]
    },
    {
     "data": {
      "image/png": "[encoded data removed]",
      "text/plain": [
       "<Figure size 864x288 with 2 Axes>"
      ]
     },
     "metadata": {
      "needs_background": "light"
     },
     "output_type": "display_data"
    }
   ],
   "source": [
    "from classificationmodel.model import build_model, train_model, save_model, plot_history\n",
    "from classificationmodel.parameters import num_classes, BATCH, EPOCHS\n",
    "\n",
    "efficientNet = build_model(num_classes)\n",
    "model_history, trained_model = train_model(efficientNet,\n",
    "                                            train_set, \n",
    "                                            val_set, \n",
    "                                            BATCH, \n",
    "                                            EPOCHS)\n",
    "saved_model = save_model(efficientNet, 'model.pkl')\n",
    "plot_history(model_history)"
   ]
  },
  {
   "attachments": {},
   "cell_type": "markdown",
   "metadata": {},
   "source": [
    "Evaluate the trained model"
   ]
  },
  {
   "cell_type": "code",
   "execution_count": 4,
   "metadata": {},
   "outputs": [
    {
     "name": "stdout",
     "output_type": "stream",
     "text": [
      "13/13 [==============================] - 21s 2s/step - loss: 0.6347 - accuracy: 0.8200\n",
      "1/1 [==============================] - 1s 1s/step\n",
      "1/1 [==============================] - 1s 1s/step\n",
      "1/1 [==============================] - 2s 2s/step\n",
      "1/1 [==============================] - 1s 1s/step\n",
      "1/1 [==============================] - 1s 1s/step\n",
      "1/1 [==============================] - 1s 1s/step\n",
      "1/1 [==============================] - 1s 1s/step\n",
      "1/1 [==============================] - 1s 1s/step\n",
      "1/1 [==============================] - 1s 1s/step\n",
      "1/1 [==============================] - 2s 2s/step\n",
      "1/1 [==============================] - 1s 1s/step\n",
      "1/1 [==============================] - 2s 2s/step\n",
      "1/1 [==============================] - 1s 1s/step\n",
      "              precision    recall  f1-score   support\n",
      "\n",
      "         BLA       0.77      0.80      0.78        25\n",
      "         EBO       0.83      0.76      0.79        25\n",
      "         MMZ       0.76      0.76      0.76        25\n",
      "         NGS       0.92      0.96      0.94        25\n",
      "\n",
      "    accuracy                           0.82       100\n",
      "   macro avg       0.82      0.82      0.82       100\n",
      "weighted avg       0.82      0.82      0.82       100\n",
      "\n",
      "Test Loss: 0.6346514225006104\n",
      "Test Accuracy: 0.8199999928474426\n"
     ]
    }
   ],
   "source": [
    "from classificationmodel.evaluation import evaluate_model\n",
    "from classificationmodel.parameters import classes\n",
    "test_loss, test_accuracy = evaluate_model(trained_model, test_set, classes)\n",
    "print(f'Test Loss: {test_loss}')\n",
    "print(f'Test Accuracy: {test_accuracy}')"
   ]
  }
 ],
 "metadata": {
  "kernelspec": {
   "display_name": "Python 3",
   "language": "python",
   "name": "python3"
  },
  "language_info": {
   "codemirror_mode": {
    "name": "ipython",
    "version": 3
   },
   "file_extension": ".py",
   "mimetype": "text/x-python",
   "name": "python",
   "nbconvert_exporter": "python",
   "pygments_lexer": "ipython3",
   "version": "3.8.10"
  },
  "orig_nbformat": 4
 },
 "nbformat": 4,
 "nbformat_minor": 2
}
